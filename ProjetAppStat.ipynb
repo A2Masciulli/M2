{
 "cells": [
  {
   "cell_type": "code",
   "execution_count": 1,
   "metadata": {},
   "outputs": [],
   "source": [
    "import pandas as pd\n",
    "import seaborn as sns\n",
    "import numpy as np\n",
    "import matplotlib.pyplot as plt"
   ]
  },
  {
   "cell_type": "code",
   "execution_count": 2,
   "metadata": {},
   "outputs": [],
   "source": [
    "import pyreadr\n",
    "\n",
    "data = pyreadr.read_r('M2/Data.RData') # also works for Rds"
   ]
  },
  {
   "cell_type": "code",
   "execution_count": 3,
   "metadata": {},
   "outputs": [
    {
     "name": "stdout",
     "output_type": "stream",
     "text": [
      "odict_keys(['.Random.seed', 'learn', 'test'])\n"
     ]
    }
   ],
   "source": [
    "print(data.keys()) # let's check what objects we got\n",
    "\n",
    "learn = data['learn']\n",
    "test = data['test']"
   ]
  },
  {
   "cell_type": "code",
   "execution_count": 4,
   "metadata": {},
   "outputs": [],
   "source": [
    "import random\n",
    "random.seed(1450)"
   ]
  },
  {
   "cell_type": "markdown",
   "metadata": {},
   "source": [
    "# Analyse Exploratoire"
   ]
  },
  {
   "cell_type": "code",
   "execution_count": 5,
   "metadata": {
    "scrolled": true
   },
   "outputs": [
    {
     "name": "stdout",
     "output_type": "stream",
     "text": [
      "5000\n"
     ]
    },
    {
     "data": {
      "text/html": [
       "<div>\n",
       "<style scoped>\n",
       "    .dataframe tbody tr th:only-of-type {\n",
       "        vertical-align: middle;\n",
       "    }\n",
       "\n",
       "    .dataframe tbody tr th {\n",
       "        vertical-align: top;\n",
       "    }\n",
       "\n",
       "    .dataframe thead th {\n",
       "        text-align: right;\n",
       "    }\n",
       "</style>\n",
       "<table border=\"1\" class=\"dataframe\">\n",
       "  <thead>\n",
       "    <tr style=\"text-align: right;\">\n",
       "      <th></th>\n",
       "      <th>X1</th>\n",
       "      <th>X2</th>\n",
       "      <th>X3</th>\n",
       "      <th>X4</th>\n",
       "      <th>X5</th>\n",
       "      <th>X6</th>\n",
       "      <th>X7</th>\n",
       "      <th>X8</th>\n",
       "      <th>X9</th>\n",
       "      <th>X10</th>\n",
       "      <th>...</th>\n",
       "      <th>X12</th>\n",
       "      <th>X13</th>\n",
       "      <th>X14</th>\n",
       "      <th>X15</th>\n",
       "      <th>X16</th>\n",
       "      <th>X17</th>\n",
       "      <th>X18</th>\n",
       "      <th>X19</th>\n",
       "      <th>X20</th>\n",
       "      <th>Y</th>\n",
       "    </tr>\n",
       "  </thead>\n",
       "  <tbody>\n",
       "    <tr>\n",
       "      <th>0</th>\n",
       "      <td>-1.315104</td>\n",
       "      <td>-0.240538</td>\n",
       "      <td>B</td>\n",
       "      <td>1.755215</td>\n",
       "      <td>0.795464</td>\n",
       "      <td>1</td>\n",
       "      <td>b</td>\n",
       "      <td>-0.346082</td>\n",
       "      <td>1.082076</td>\n",
       "      <td>A</td>\n",
       "      <td>...</td>\n",
       "      <td>2.369179</td>\n",
       "      <td>b</td>\n",
       "      <td>1.443978</td>\n",
       "      <td>1.824798</td>\n",
       "      <td>0.829612</td>\n",
       "      <td>0.056779</td>\n",
       "      <td>1</td>\n",
       "      <td>1.461547</td>\n",
       "      <td>A</td>\n",
       "      <td>2.406301</td>\n",
       "    </tr>\n",
       "    <tr>\n",
       "      <th>1</th>\n",
       "      <td>-0.669916</td>\n",
       "      <td>-0.776774</td>\n",
       "      <td>B</td>\n",
       "      <td>0.910871</td>\n",
       "      <td>0.967218</td>\n",
       "      <td>1</td>\n",
       "      <td>b</td>\n",
       "      <td>0.204782</td>\n",
       "      <td>0.488878</td>\n",
       "      <td>A</td>\n",
       "      <td>...</td>\n",
       "      <td>0.629484</td>\n",
       "      <td>b</td>\n",
       "      <td>1.856766</td>\n",
       "      <td>0.885839</td>\n",
       "      <td>0.874151</td>\n",
       "      <td>0.292776</td>\n",
       "      <td>1</td>\n",
       "      <td>1.835593</td>\n",
       "      <td>A</td>\n",
       "      <td>1.806157</td>\n",
       "    </tr>\n",
       "    <tr>\n",
       "      <th>2</th>\n",
       "      <td>-0.669916</td>\n",
       "      <td>-0.683651</td>\n",
       "      <td>A</td>\n",
       "      <td>0.849125</td>\n",
       "      <td>0.583180</td>\n",
       "      <td>-1</td>\n",
       "      <td>b</td>\n",
       "      <td>-0.165228</td>\n",
       "      <td>1.139386</td>\n",
       "      <td>A</td>\n",
       "      <td>...</td>\n",
       "      <td>0.447210</td>\n",
       "      <td>c</td>\n",
       "      <td>0.193961</td>\n",
       "      <td>1.277355</td>\n",
       "      <td>-0.427721</td>\n",
       "      <td>0.668098</td>\n",
       "      <td>1</td>\n",
       "      <td>0.261418</td>\n",
       "      <td>A</td>\n",
       "      <td>-0.176492</td>\n",
       "    </tr>\n",
       "  </tbody>\n",
       "</table>\n",
       "<p>3 rows × 21 columns</p>\n",
       "</div>"
      ],
      "text/plain": [
       "         X1        X2 X3        X4        X5  X6 X7        X8        X9 X10  \\\n",
       "0 -1.315104 -0.240538  B  1.755215  0.795464   1  b -0.346082  1.082076   A   \n",
       "1 -0.669916 -0.776774  B  0.910871  0.967218   1  b  0.204782  0.488878   A   \n",
       "2 -0.669916 -0.683651  A  0.849125  0.583180  -1  b -0.165228  1.139386   A   \n",
       "\n",
       "     ...          X12  X13       X14       X15       X16       X17  X18  \\\n",
       "0    ...     2.369179    b  1.443978  1.824798  0.829612  0.056779    1   \n",
       "1    ...     0.629484    b  1.856766  0.885839  0.874151  0.292776    1   \n",
       "2    ...     0.447210    c  0.193961  1.277355 -0.427721  0.668098    1   \n",
       "\n",
       "        X19  X20         Y  \n",
       "0  1.461547    A  2.406301  \n",
       "1  1.835593    A  1.806157  \n",
       "2  0.261418    A -0.176492  \n",
       "\n",
       "[3 rows x 21 columns]"
      ]
     },
     "execution_count": 5,
     "metadata": {},
     "output_type": "execute_result"
    }
   ],
   "source": [
    "print(len(learn))\n",
    "learn.head(3)"
   ]
  },
  {
   "cell_type": "code",
   "execution_count": 6,
   "metadata": {
    "scrolled": true
   },
   "outputs": [
    {
     "name": "stdout",
     "output_type": "stream",
     "text": [
      "X1      float64\n",
      "X2      float64\n",
      "X3     category\n",
      "X4      float64\n",
      "X5      float64\n",
      "X6       object\n",
      "X7     category\n",
      "X8      float64\n",
      "X9      float64\n",
      "X10    category\n",
      "X11     float64\n",
      "X12     float64\n",
      "X13    category\n",
      "X14     float64\n",
      "X15     float64\n",
      "X16     float64\n",
      "X17     float64\n",
      "X18      object\n",
      "X19     float64\n",
      "X20    category\n",
      "Y       float64\n",
      "dtype: object\n"
     ]
    },
    {
     "data": {
      "text/plain": [
       "(5000, 21)"
      ]
     },
     "execution_count": 6,
     "metadata": {},
     "output_type": "execute_result"
    }
   ],
   "source": [
    "print(learn.dtypes)\n",
    "learn.shape\n",
    "# print(learn.describe().transpose())"
   ]
  },
  {
   "cell_type": "code",
   "execution_count": 7,
   "metadata": {},
   "outputs": [
    {
     "name": "stdout",
     "output_type": "stream",
     "text": [
      "  X3 X7 X10 X13 X20\n",
      "0  B  b   A   b   A\n",
      "1  B  b   A   b   A\n"
     ]
    }
   ],
   "source": [
    "#Categorails values \n",
    "\n",
    "categorials_var = learn.select_dtypes(include='category')\n",
    "print(categorials_var.head(2))"
   ]
  },
  {
   "cell_type": "markdown",
   "metadata": {},
   "source": [
    "## Matrice de corrélation (Variables quantitatives)"
   ]
  },
  {
   "cell_type": "code",
   "execution_count": 8,
   "metadata": {
    "scrolled": true
   },
   "outputs": [
    {
     "data": {
      "text/html": [
       "<div>\n",
       "<style scoped>\n",
       "    .dataframe tbody tr th:only-of-type {\n",
       "        vertical-align: middle;\n",
       "    }\n",
       "\n",
       "    .dataframe tbody tr th {\n",
       "        vertical-align: top;\n",
       "    }\n",
       "\n",
       "    .dataframe thead th {\n",
       "        text-align: right;\n",
       "    }\n",
       "</style>\n",
       "<table border=\"1\" class=\"dataframe\">\n",
       "  <thead>\n",
       "    <tr style=\"text-align: right;\">\n",
       "      <th></th>\n",
       "      <th>X1</th>\n",
       "      <th>X2</th>\n",
       "      <th>X4</th>\n",
       "      <th>X5</th>\n",
       "      <th>X8</th>\n",
       "      <th>X9</th>\n",
       "      <th>X11</th>\n",
       "      <th>X12</th>\n",
       "      <th>X14</th>\n",
       "      <th>X15</th>\n",
       "      <th>X16</th>\n",
       "      <th>X17</th>\n",
       "      <th>X19</th>\n",
       "      <th>Y</th>\n",
       "    </tr>\n",
       "  </thead>\n",
       "  <tbody>\n",
       "    <tr>\n",
       "      <th>0</th>\n",
       "      <td>-1.315104</td>\n",
       "      <td>-0.240538</td>\n",
       "      <td>1.755215</td>\n",
       "      <td>0.795464</td>\n",
       "      <td>-0.346082</td>\n",
       "      <td>1.082076</td>\n",
       "      <td>0.445504</td>\n",
       "      <td>2.369179</td>\n",
       "      <td>1.443978</td>\n",
       "      <td>1.824798</td>\n",
       "      <td>0.829612</td>\n",
       "      <td>0.056779</td>\n",
       "      <td>1.461547</td>\n",
       "      <td>2.406301</td>\n",
       "    </tr>\n",
       "    <tr>\n",
       "      <th>1</th>\n",
       "      <td>-0.669916</td>\n",
       "      <td>-0.776774</td>\n",
       "      <td>0.910871</td>\n",
       "      <td>0.967218</td>\n",
       "      <td>0.204782</td>\n",
       "      <td>0.488878</td>\n",
       "      <td>0.143632</td>\n",
       "      <td>0.629484</td>\n",
       "      <td>1.856766</td>\n",
       "      <td>0.885839</td>\n",
       "      <td>0.874151</td>\n",
       "      <td>0.292776</td>\n",
       "      <td>1.835593</td>\n",
       "      <td>1.806157</td>\n",
       "    </tr>\n",
       "  </tbody>\n",
       "</table>\n",
       "</div>"
      ],
      "text/plain": [
       "         X1        X2        X4        X5        X8        X9       X11  \\\n",
       "0 -1.315104 -0.240538  1.755215  0.795464 -0.346082  1.082076  0.445504   \n",
       "1 -0.669916 -0.776774  0.910871  0.967218  0.204782  0.488878  0.143632   \n",
       "\n",
       "        X12       X14       X15       X16       X17       X19         Y  \n",
       "0  2.369179  1.443978  1.824798  0.829612  0.056779  1.461547  2.406301  \n",
       "1  0.629484  1.856766  0.885839  0.874151  0.292776  1.835593  1.806157  "
      ]
     },
     "execution_count": 8,
     "metadata": {},
     "output_type": "execute_result"
    }
   ],
   "source": [
    "learnQuanti = learn._get_numeric_data()\n",
    "\n",
    "learnQuanti.head(2)"
   ]
  },
  {
   "cell_type": "code",
   "execution_count": 9,
   "metadata": {
    "scrolled": true
   },
   "outputs": [
    {
     "data": {
      "text/plain": [
       "<matplotlib.axes._subplots.AxesSubplot at 0x94faa90>"
      ]
     },
     "execution_count": 9,
     "metadata": {},
     "output_type": "execute_result"
    },
    {
     "data": {
      "image/png": "[encoded data removed]",
      "text/plain": [
       "<Figure size 576x648 with 2 Axes>"
      ]
     },
     "metadata": {
      "needs_background": "light"
     },
     "output_type": "display_data"
    }
   ],
   "source": [
    "# Compute the correlation matrix\n",
    "corr = learnQuanti.corr()\n",
    "\n",
    "# Generate a mask for the upper triangle\n",
    "mask = np.zeros_like(corr, dtype=np.bool)\n",
    "mask[np.triu_indices_from(mask)] = True\n",
    "\n",
    "# Set up the matplotlib figure\n",
    "f, ax = plt.subplots(figsize=(8, 9))\n",
    "\n",
    "# Generate a custom diverging colormap\n",
    "cmap = sns.diverging_palette(220, 10, as_cmap=True)\n",
    "\n",
    "# Draw the heatmap with the mask and correct aspect ratio\n",
    "sns.heatmap(corr, mask=mask, cmap=cmap, vmax=.3, center=0,\n",
    "            square=True, linewidths=.5, cbar_kws={\"shrink\": .5})"
   ]
  },
  {
   "cell_type": "code",
   "execution_count": 10,
   "metadata": {
    "scrolled": false
   },
   "outputs": [
    {
     "data": {
      "text/plain": [
       "<matplotlib.axes._subplots.AxesSubplot at 0x96f49b0>"
      ]
     },
     "execution_count": 10,
     "metadata": {},
     "output_type": "execute_result"
    },
    {
     "data": {
      "image/png": "[encoded data removed]",
      "text/plain": [
       "<Figure size 432x288 with 1 Axes>"
      ]
     },
     "metadata": {
      "needs_background": "light"
     },
     "output_type": "display_data"
    }
   ],
   "source": [
    "learnQuanti.boxplot()"
   ]
  },
  {
   "cell_type": "code",
   "execution_count": 12,
   "metadata": {},
   "outputs": [
    {
     "data": {
      "text/plain": [
       "(5000, 21)"
      ]
     },
     "execution_count": 12,
     "metadata": {},
     "output_type": "execute_result"
    }
   ],
   "source": [
    "learn.shape"
   ]
  },
  {
   "cell_type": "markdown",
   "metadata": {},
   "source": [
    "### Missing Values"
   ]
  },
  {
   "cell_type": "code",
   "execution_count": 13,
   "metadata": {
    "scrolled": true
   },
   "outputs": [
    {
     "name": "stdout",
     "output_type": "stream",
     "text": [
      "(5000, 21)\n",
      "X1     43\n",
      "X2     51\n",
      "X3     58\n",
      "X4     57\n",
      "X5     59\n",
      "X6     54\n",
      "X7     53\n",
      "X8     52\n",
      "X9     53\n",
      "X10    55\n",
      "X11    45\n",
      "X12    47\n",
      "X13    45\n",
      "X14    47\n",
      "X15    55\n",
      "X16    56\n",
      "X17    54\n",
      "X18    51\n",
      "X19    54\n",
      "X20    56\n",
      "Y       0\n",
      "dtype: int64\n",
      "         X1        X2 X3        X4        X5  X6 X7        X8        X9 X10  \\\n",
      "0 -1.315104 -0.240538  B  1.755215  0.795464   1  b -0.346082  1.082076   A   \n",
      "1 -0.669916 -0.776774  B  0.910871  0.967218   1  b  0.204782  0.488878   A   \n",
      "2 -0.669916 -0.683651  A  0.849125  0.583180  -1  b -0.165228  1.139386   A   \n",
      "\n",
      "       ...        X13       X14       X15       X16       X17  X18       X19  \\\n",
      "0      ...          b  1.443978  1.824798  0.829612  0.056779    1  1.461547   \n",
      "1      ...          b  1.856766  0.885839  0.874151  0.292776    1  1.835593   \n",
      "2      ...          c  0.193961  1.277355 -0.427721  0.668098    1  0.261418   \n",
      "\n",
      "  X20         Y missing_values  \n",
      "0   A  2.406301             21  \n",
      "1   A  1.806157             21  \n",
      "2   A -0.176492             21  \n",
      "\n",
      "[3 rows x 22 columns]\n",
      "Plus de 5% des lignes ont au moins une données manquantes : 100.0 % impossible de supprimer les données manquantes \n",
      "\n"
     ]
    }
   ],
   "source": [
    "#Missing values \n",
    "print(learn.shape)\n",
    "print(learn.isnull().sum())\n",
    "learn2 = learn\n",
    "learn2['missing_values'] = learn2.apply(lambda x: x.count(), axis=1)\n",
    "\n",
    "#Aucune valeur manquante dans la variable à prédire Y\n",
    "\n",
    "print(learn2.head(3))\n",
    "\n",
    "if len(learn2[learn2['missing_values']!=22])/learn2.shape[0]>=0.05:\n",
    "    print('Plus de 5% des lignes ont au moins une données manquantes :',round(len(learn2[learn2['missing_values']!=22])*100/learn2.shape[0],0),'%','impossible de supprimer les données manquantes','\\n')\n",
    "else:\n",
    "    print('Moins de 5% des lignes ont au moins une données manquantes :',round(len(learn2[learn2['missing_values']!=22])*100/learn2.shape[0],0),'%','possibilité de supprimer les données manquantes','\\n')"
   ]
  },
  {
   "cell_type": "code",
   "execution_count": 14,
   "metadata": {},
   "outputs": [
    {
     "data": {
      "text/html": [
       "<div>\n",
       "<style scoped>\n",
       "    .dataframe tbody tr th:only-of-type {\n",
       "        vertical-align: middle;\n",
       "    }\n",
       "\n",
       "    .dataframe tbody tr th {\n",
       "        vertical-align: top;\n",
       "    }\n",
       "\n",
       "    .dataframe thead th {\n",
       "        text-align: right;\n",
       "    }\n",
       "</style>\n",
       "<table border=\"1\" class=\"dataframe\">\n",
       "  <thead>\n",
       "    <tr style=\"text-align: right;\">\n",
       "      <th></th>\n",
       "      <th>X1</th>\n",
       "      <th>X2</th>\n",
       "      <th>X3</th>\n",
       "      <th>X4</th>\n",
       "      <th>X5</th>\n",
       "      <th>X6</th>\n",
       "      <th>X7</th>\n",
       "      <th>X8</th>\n",
       "      <th>X9</th>\n",
       "      <th>X10</th>\n",
       "      <th>...</th>\n",
       "      <th>X12</th>\n",
       "      <th>X13</th>\n",
       "      <th>X14</th>\n",
       "      <th>X15</th>\n",
       "      <th>X16</th>\n",
       "      <th>X17</th>\n",
       "      <th>X18</th>\n",
       "      <th>X19</th>\n",
       "      <th>X20</th>\n",
       "      <th>Y</th>\n",
       "    </tr>\n",
       "  </thead>\n",
       "  <tbody>\n",
       "    <tr>\n",
       "      <th>0</th>\n",
       "      <td>-1.315104</td>\n",
       "      <td>-0.240538</td>\n",
       "      <td>B</td>\n",
       "      <td>1.755215</td>\n",
       "      <td>0.795464</td>\n",
       "      <td>1</td>\n",
       "      <td>b</td>\n",
       "      <td>-0.346082</td>\n",
       "      <td>1.082076</td>\n",
       "      <td>A</td>\n",
       "      <td>...</td>\n",
       "      <td>2.369179</td>\n",
       "      <td>b</td>\n",
       "      <td>1.443978</td>\n",
       "      <td>1.824798</td>\n",
       "      <td>0.829612</td>\n",
       "      <td>0.056779</td>\n",
       "      <td>1</td>\n",
       "      <td>1.461547</td>\n",
       "      <td>A</td>\n",
       "      <td>2.406301</td>\n",
       "    </tr>\n",
       "    <tr>\n",
       "      <th>1</th>\n",
       "      <td>-0.669916</td>\n",
       "      <td>-0.776774</td>\n",
       "      <td>B</td>\n",
       "      <td>0.910871</td>\n",
       "      <td>0.967218</td>\n",
       "      <td>1</td>\n",
       "      <td>b</td>\n",
       "      <td>0.204782</td>\n",
       "      <td>0.488878</td>\n",
       "      <td>A</td>\n",
       "      <td>...</td>\n",
       "      <td>0.629484</td>\n",
       "      <td>b</td>\n",
       "      <td>1.856766</td>\n",
       "      <td>0.885839</td>\n",
       "      <td>0.874151</td>\n",
       "      <td>0.292776</td>\n",
       "      <td>1</td>\n",
       "      <td>1.835593</td>\n",
       "      <td>A</td>\n",
       "      <td>1.806157</td>\n",
       "    </tr>\n",
       "  </tbody>\n",
       "</table>\n",
       "<p>2 rows × 21 columns</p>\n",
       "</div>"
      ],
      "text/plain": [
       "         X1        X2 X3        X4        X5 X6 X7        X8        X9 X10  \\\n",
       "0 -1.315104 -0.240538  B  1.755215  0.795464  1  b -0.346082  1.082076   A   \n",
       "1 -0.669916 -0.776774  B  0.910871  0.967218  1  b  0.204782  0.488878   A   \n",
       "\n",
       "     ...          X12  X13       X14       X15       X16       X17  X18  \\\n",
       "0    ...     2.369179    b  1.443978  1.824798  0.829612  0.056779    1   \n",
       "1    ...     0.629484    b  1.856766  0.885839  0.874151  0.292776    1   \n",
       "\n",
       "        X19  X20         Y  \n",
       "0  1.461547    A  2.406301  \n",
       "1  1.835593    A  1.806157  \n",
       "\n",
       "[2 rows x 21 columns]"
      ]
     },
     "execution_count": 14,
     "metadata": {},
     "output_type": "execute_result"
    }
   ],
   "source": [
    "learn2 = learn2.drop('missing_values',1)\n",
    "learn = learn.drop('missing_values',1)\n",
    "#learn2 = learn2.drop('Y',1)\n",
    "learn2.head(2)"
   ]
  },
  {
   "cell_type": "markdown",
   "metadata": {},
   "source": [
    "### Imputation Multiple"
   ]
  },
  {
   "cell_type": "markdown",
   "metadata": {},
   "source": [
    "On remplace chaque valeur manquante par M(>1) valeur tirées dans une distribution approprie\n",
    "On considère que pour M = 5 on à de bon résultat\n",
    "Maxit = on relance 10 fois l'imputation multiple \n",
    "On utilise la méthode \"Predictive mean matching\" : pmm / convient à tout types de variables (num ou char)"
   ]
  },
  {
   "cell_type": "code",
   "execution_count": 79,
   "metadata": {},
   "outputs": [
    {
     "ename": "ModuleNotFoundError",
     "evalue": "No module named 'sklearn.experimental'",
     "output_type": "error",
     "traceback": [
      "\u001b[1;31m---------------------------------------------------------------------------\u001b[0m",
      "\u001b[1;31mModuleNotFoundError\u001b[0m                       Traceback (most recent call last)",
      "\u001b[1;32m<ipython-input-79-9fb86687e8df>\u001b[0m in \u001b[0;36m<module>\u001b[1;34m\u001b[0m\n\u001b[1;32m----> 1\u001b[1;33m \u001b[1;32mfrom\u001b[0m \u001b[0msklearn\u001b[0m\u001b[1;33m.\u001b[0m\u001b[0mexperimental\u001b[0m \u001b[1;32mimport\u001b[0m \u001b[0menable_iterative_imputer\u001b[0m\u001b[1;33m\u001b[0m\u001b[1;33m\u001b[0m\u001b[0m\n\u001b[0m\u001b[0;32m      2\u001b[0m \u001b[1;32mfrom\u001b[0m \u001b[0msklearn\u001b[0m\u001b[1;33m.\u001b[0m\u001b[0mimpute\u001b[0m \u001b[1;32mimport\u001b[0m \u001b[0mIterativeImputer\u001b[0m\u001b[1;33m\u001b[0m\u001b[1;33m\u001b[0m\u001b[0m\n",
      "\u001b[1;31mModuleNotFoundError\u001b[0m: No module named 'sklearn.experimental'"
     ]
    }
   ],
   "source": [
    "from sklearn.experimental import enable_iterative_imputer\n",
    "from sklearn.impute import IterativeImputer"
   ]
  },
  {
   "cell_type": "code",
   "execution_count": 15,
   "metadata": {},
   "outputs": [
    {
     "ename": "NameError",
     "evalue": "name 'IterativeImputer' is not defined",
     "output_type": "error",
     "traceback": [
      "\u001b[1;31m---------------------------------------------------------------------------\u001b[0m",
      "\u001b[1;31mNameError\u001b[0m                                 Traceback (most recent call last)",
      "\u001b[1;32m<ipython-input-15-44dd82eb56b7>\u001b[0m in \u001b[0;36m<module>\u001b[1;34m\u001b[0m\n\u001b[1;32m----> 1\u001b[1;33m \u001b[0mimp\u001b[0m \u001b[1;33m=\u001b[0m \u001b[0mIterativeImputer\u001b[0m\u001b[1;33m(\u001b[0m\u001b[0mmax_iter\u001b[0m\u001b[1;33m=\u001b[0m\u001b[1;36m10\u001b[0m\u001b[1;33m,\u001b[0m \u001b[0mrandom_state\u001b[0m\u001b[1;33m=\u001b[0m\u001b[1;36m0\u001b[0m\u001b[1;33m)\u001b[0m\u001b[1;33m\u001b[0m\u001b[1;33m\u001b[0m\u001b[0m\n\u001b[0m\u001b[0;32m      2\u001b[0m \u001b[0mimp\u001b[0m\u001b[1;33m.\u001b[0m\u001b[0mfit\u001b[0m\u001b[1;33m(\u001b[0m\u001b[0mlearn\u001b[0m\u001b[1;33m)\u001b[0m\u001b[1;33m\u001b[0m\u001b[1;33m\u001b[0m\u001b[0m\n\u001b[0;32m      3\u001b[0m \u001b[1;31m#https://scikit-learn.org/stable/modules/impute.html\u001b[0m\u001b[1;33m\u001b[0m\u001b[1;33m\u001b[0m\u001b[1;33m\u001b[0m\u001b[0m\n",
      "\u001b[1;31mNameError\u001b[0m: name 'IterativeImputer' is not defined"
     ]
    }
   ],
   "source": [
    "imp = IterativeImputer(max_iter=10, random_state=0)\n",
    "imp.fit(learn)\n",
    "#https://scikit-learn.org/stable/modules/impute.html"
   ]
  },
  {
   "cell_type": "code",
   "execution_count": 15,
   "metadata": {},
   "outputs": [],
   "source": [
    "from sklearn.impute import SimpleImputer"
   ]
  },
  {
   "cell_type": "code",
   "execution_count": 16,
   "metadata": {
    "scrolled": true
   },
   "outputs": [
    {
     "name": "stderr",
     "output_type": "stream",
     "text": [
      "C:\\ProgramData\\Anaconda3\\lib\\site-packages\\sklearn\\utils\\fixes.py:318: RuntimeWarning: invalid value encountered in not_equal\n",
      "  return X != X\n",
      "C:\\ProgramData\\Anaconda3\\lib\\site-packages\\sklearn\\utils\\fixes.py:318: RuntimeWarning: invalid value encountered in not_equal\n",
      "  return X != X\n"
     ]
    },
    {
     "data": {
      "text/html": [
       "<div>\n",
       "<style scoped>\n",
       "    .dataframe tbody tr th:only-of-type {\n",
       "        vertical-align: middle;\n",
       "    }\n",
       "\n",
       "    .dataframe tbody tr th {\n",
       "        vertical-align: top;\n",
       "    }\n",
       "\n",
       "    .dataframe thead th {\n",
       "        text-align: right;\n",
       "    }\n",
       "</style>\n",
       "<table border=\"1\" class=\"dataframe\">\n",
       "  <thead>\n",
       "    <tr style=\"text-align: right;\">\n",
       "      <th></th>\n",
       "      <th>0</th>\n",
       "      <th>1</th>\n",
       "      <th>2</th>\n",
       "      <th>3</th>\n",
       "      <th>4</th>\n",
       "      <th>5</th>\n",
       "      <th>6</th>\n",
       "      <th>7</th>\n",
       "      <th>8</th>\n",
       "      <th>9</th>\n",
       "      <th>...</th>\n",
       "      <th>11</th>\n",
       "      <th>12</th>\n",
       "      <th>13</th>\n",
       "      <th>14</th>\n",
       "      <th>15</th>\n",
       "      <th>16</th>\n",
       "      <th>17</th>\n",
       "      <th>18</th>\n",
       "      <th>19</th>\n",
       "      <th>20</th>\n",
       "    </tr>\n",
       "  </thead>\n",
       "  <tbody>\n",
       "    <tr>\n",
       "      <th>0</th>\n",
       "      <td>-1.3151</td>\n",
       "      <td>-0.240538</td>\n",
       "      <td>B</td>\n",
       "      <td>1.75521</td>\n",
       "      <td>0.795464</td>\n",
       "      <td>1</td>\n",
       "      <td>b</td>\n",
       "      <td>-0.346082</td>\n",
       "      <td>1.08208</td>\n",
       "      <td>A</td>\n",
       "      <td>...</td>\n",
       "      <td>2.36918</td>\n",
       "      <td>b</td>\n",
       "      <td>1.44398</td>\n",
       "      <td>1.8248</td>\n",
       "      <td>0.829612</td>\n",
       "      <td>0.0567793</td>\n",
       "      <td>1</td>\n",
       "      <td>1.46155</td>\n",
       "      <td>A</td>\n",
       "      <td>2.4063</td>\n",
       "    </tr>\n",
       "    <tr>\n",
       "      <th>1</th>\n",
       "      <td>-0.669916</td>\n",
       "      <td>-0.776774</td>\n",
       "      <td>B</td>\n",
       "      <td>0.910871</td>\n",
       "      <td>0.967218</td>\n",
       "      <td>1</td>\n",
       "      <td>b</td>\n",
       "      <td>0.204782</td>\n",
       "      <td>0.488878</td>\n",
       "      <td>A</td>\n",
       "      <td>...</td>\n",
       "      <td>0.629484</td>\n",
       "      <td>b</td>\n",
       "      <td>1.85677</td>\n",
       "      <td>0.885839</td>\n",
       "      <td>0.874151</td>\n",
       "      <td>0.292776</td>\n",
       "      <td>1</td>\n",
       "      <td>1.83559</td>\n",
       "      <td>A</td>\n",
       "      <td>1.80616</td>\n",
       "    </tr>\n",
       "  </tbody>\n",
       "</table>\n",
       "<p>2 rows × 21 columns</p>\n",
       "</div>"
      ],
      "text/plain": [
       "         0         1  2         3         4  5  6         7         8  9   \\\n",
       "0   -1.3151 -0.240538  B   1.75521  0.795464  1  b -0.346082   1.08208  A   \n",
       "1 -0.669916 -0.776774  B  0.910871  0.967218  1  b  0.204782  0.488878  A   \n",
       "\n",
       "    ...           11 12       13        14        15         16 17       18  \\\n",
       "0   ...      2.36918  b  1.44398    1.8248  0.829612  0.0567793  1  1.46155   \n",
       "1   ...     0.629484  b  1.85677  0.885839  0.874151   0.292776  1  1.83559   \n",
       "\n",
       "  19       20  \n",
       "0  A   2.4063  \n",
       "1  A  1.80616  \n",
       "\n",
       "[2 rows x 21 columns]"
      ]
     },
     "execution_count": 16,
     "metadata": {},
     "output_type": "execute_result"
    }
   ],
   "source": [
    "imp = SimpleImputer(missing_values=np.NaN, strategy='most_frequent')\n",
    "imp.fit(learn)\n",
    "CompletedData_SIM = pd.DataFrame(imp.transform(learn))\n",
    "\n",
    "CompletedData_SIM.head(2)"
   ]
  },
  {
   "cell_type": "code",
   "execution_count": 19,
   "metadata": {},
   "outputs": [
    {
     "name": "stdout",
     "output_type": "stream",
     "text": [
      "(5000, 21) (5000, 21)\n"
     ]
    }
   ],
   "source": [
    "print(CompletedData_SIM.shape,learn.shape)"
   ]
  },
  {
   "cell_type": "code",
   "execution_count": 20,
   "metadata": {
    "scrolled": false
   },
   "outputs": [
    {
     "data": {
      "text/html": [
       "<div>\n",
       "<style scoped>\n",
       "    .dataframe tbody tr th:only-of-type {\n",
       "        vertical-align: middle;\n",
       "    }\n",
       "\n",
       "    .dataframe tbody tr th {\n",
       "        vertical-align: top;\n",
       "    }\n",
       "\n",
       "    .dataframe thead th {\n",
       "        text-align: right;\n",
       "    }\n",
       "</style>\n",
       "<table border=\"1\" class=\"dataframe\">\n",
       "  <thead>\n",
       "    <tr style=\"text-align: right;\">\n",
       "      <th></th>\n",
       "      <th>X1</th>\n",
       "      <th>X2</th>\n",
       "      <th>X3</th>\n",
       "      <th>X4</th>\n",
       "      <th>X5</th>\n",
       "      <th>X6</th>\n",
       "      <th>X7</th>\n",
       "      <th>X8</th>\n",
       "      <th>X9</th>\n",
       "      <th>X10</th>\n",
       "      <th>...</th>\n",
       "      <th>X12</th>\n",
       "      <th>X13</th>\n",
       "      <th>X14</th>\n",
       "      <th>X15</th>\n",
       "      <th>X16</th>\n",
       "      <th>X17</th>\n",
       "      <th>X18</th>\n",
       "      <th>X19</th>\n",
       "      <th>X20</th>\n",
       "      <th>Y</th>\n",
       "    </tr>\n",
       "  </thead>\n",
       "  <tbody>\n",
       "    <tr>\n",
       "      <th>0</th>\n",
       "      <td>-1.3151</td>\n",
       "      <td>-0.240538</td>\n",
       "      <td>B</td>\n",
       "      <td>1.75521</td>\n",
       "      <td>0.795464</td>\n",
       "      <td>1</td>\n",
       "      <td>b</td>\n",
       "      <td>-0.346082</td>\n",
       "      <td>1.08208</td>\n",
       "      <td>A</td>\n",
       "      <td>...</td>\n",
       "      <td>2.36918</td>\n",
       "      <td>b</td>\n",
       "      <td>1.44398</td>\n",
       "      <td>1.8248</td>\n",
       "      <td>0.829612</td>\n",
       "      <td>0.0567793</td>\n",
       "      <td>1</td>\n",
       "      <td>1.46155</td>\n",
       "      <td>A</td>\n",
       "      <td>2.4063</td>\n",
       "    </tr>\n",
       "    <tr>\n",
       "      <th>1</th>\n",
       "      <td>-0.669916</td>\n",
       "      <td>-0.776774</td>\n",
       "      <td>B</td>\n",
       "      <td>0.910871</td>\n",
       "      <td>0.967218</td>\n",
       "      <td>1</td>\n",
       "      <td>b</td>\n",
       "      <td>0.204782</td>\n",
       "      <td>0.488878</td>\n",
       "      <td>A</td>\n",
       "      <td>...</td>\n",
       "      <td>0.629484</td>\n",
       "      <td>b</td>\n",
       "      <td>1.85677</td>\n",
       "      <td>0.885839</td>\n",
       "      <td>0.874151</td>\n",
       "      <td>0.292776</td>\n",
       "      <td>1</td>\n",
       "      <td>1.83559</td>\n",
       "      <td>A</td>\n",
       "      <td>1.80616</td>\n",
       "    </tr>\n",
       "    <tr>\n",
       "      <th>2</th>\n",
       "      <td>-0.669916</td>\n",
       "      <td>-0.683651</td>\n",
       "      <td>A</td>\n",
       "      <td>0.849125</td>\n",
       "      <td>0.58318</td>\n",
       "      <td>-1</td>\n",
       "      <td>b</td>\n",
       "      <td>-0.165228</td>\n",
       "      <td>1.13939</td>\n",
       "      <td>A</td>\n",
       "      <td>...</td>\n",
       "      <td>0.44721</td>\n",
       "      <td>c</td>\n",
       "      <td>0.193961</td>\n",
       "      <td>1.27736</td>\n",
       "      <td>-0.427721</td>\n",
       "      <td>0.668098</td>\n",
       "      <td>1</td>\n",
       "      <td>0.261418</td>\n",
       "      <td>A</td>\n",
       "      <td>-0.176492</td>\n",
       "    </tr>\n",
       "  </tbody>\n",
       "</table>\n",
       "<p>3 rows × 21 columns</p>\n",
       "</div>"
      ],
      "text/plain": [
       "         X1        X2 X3        X4        X5  X6 X7        X8        X9 X10  \\\n",
       "0   -1.3151 -0.240538  B   1.75521  0.795464   1  b -0.346082   1.08208   A   \n",
       "1 -0.669916 -0.776774  B  0.910871  0.967218   1  b  0.204782  0.488878   A   \n",
       "2 -0.669916 -0.683651  A  0.849125   0.58318  -1  b -0.165228   1.13939   A   \n",
       "\n",
       "     ...          X12 X13       X14       X15       X16        X17 X18  \\\n",
       "0    ...      2.36918   b   1.44398    1.8248  0.829612  0.0567793   1   \n",
       "1    ...     0.629484   b   1.85677  0.885839  0.874151   0.292776   1   \n",
       "2    ...      0.44721   c  0.193961   1.27736 -0.427721   0.668098   1   \n",
       "\n",
       "        X19 X20         Y  \n",
       "0   1.46155   A    2.4063  \n",
       "1   1.83559   A   1.80616  \n",
       "2  0.261418   A -0.176492  \n",
       "\n",
       "[3 rows x 21 columns]"
      ]
     },
     "execution_count": 20,
     "metadata": {},
     "output_type": "execute_result"
    }
   ],
   "source": [
    "#rename columns \n",
    "learn_list_of_names = list(learn)\n",
    "CompletedData_SIM.columns = learn_list_of_names\n",
    "CompletedData_SIM.head(3)"
   ]
  },
  {
   "cell_type": "code",
   "execution_count": 21,
   "metadata": {},
   "outputs": [
    {
     "data": {
      "text/plain": [
       "['X3', 'X7', 'X10', 'X13', 'X20']"
      ]
     },
     "execution_count": 21,
     "metadata": {},
     "output_type": "execute_result"
    }
   ],
   "source": [
    "categorials_var_list = categorials_var.columns.tolist()\n",
    "categorials_var_list"
   ]
  },
  {
   "cell_type": "code",
   "execution_count": 22,
   "metadata": {},
   "outputs": [
    {
     "name": "stdout",
     "output_type": "stream",
     "text": [
      "['X1', 'X2', 'X4', 'X5', 'X8', 'X9', 'X11', 'X12', 'X14', 'X15', 'X16', 'X17', 'X19', 'Y']\n"
     ]
    },
    {
     "data": {
      "text/html": [
       "<div>\n",
       "<style scoped>\n",
       "    .dataframe tbody tr th:only-of-type {\n",
       "        vertical-align: middle;\n",
       "    }\n",
       "\n",
       "    .dataframe tbody tr th {\n",
       "        vertical-align: top;\n",
       "    }\n",
       "\n",
       "    .dataframe thead th {\n",
       "        text-align: right;\n",
       "    }\n",
       "</style>\n",
       "<table border=\"1\" class=\"dataframe\">\n",
       "  <thead>\n",
       "    <tr style=\"text-align: right;\">\n",
       "      <th></th>\n",
       "      <th>X1</th>\n",
       "      <th>X2</th>\n",
       "      <th>X4</th>\n",
       "      <th>X5</th>\n",
       "      <th>X8</th>\n",
       "      <th>X9</th>\n",
       "      <th>X11</th>\n",
       "      <th>X12</th>\n",
       "      <th>X14</th>\n",
       "      <th>X15</th>\n",
       "      <th>X16</th>\n",
       "      <th>X17</th>\n",
       "      <th>X19</th>\n",
       "      <th>Y</th>\n",
       "    </tr>\n",
       "  </thead>\n",
       "  <tbody>\n",
       "    <tr>\n",
       "      <th>0</th>\n",
       "      <td>-1.3151</td>\n",
       "      <td>-0.240538</td>\n",
       "      <td>1.75521</td>\n",
       "      <td>0.795464</td>\n",
       "      <td>-0.346082</td>\n",
       "      <td>1.08208</td>\n",
       "      <td>0.445504</td>\n",
       "      <td>2.36918</td>\n",
       "      <td>1.44398</td>\n",
       "      <td>1.8248</td>\n",
       "      <td>0.829612</td>\n",
       "      <td>0.0567793</td>\n",
       "      <td>1.46155</td>\n",
       "      <td>2.4063</td>\n",
       "    </tr>\n",
       "    <tr>\n",
       "      <th>1</th>\n",
       "      <td>-0.669916</td>\n",
       "      <td>-0.776774</td>\n",
       "      <td>0.910871</td>\n",
       "      <td>0.967218</td>\n",
       "      <td>0.204782</td>\n",
       "      <td>0.488878</td>\n",
       "      <td>0.143632</td>\n",
       "      <td>0.629484</td>\n",
       "      <td>1.85677</td>\n",
       "      <td>0.885839</td>\n",
       "      <td>0.874151</td>\n",
       "      <td>0.292776</td>\n",
       "      <td>1.83559</td>\n",
       "      <td>1.80616</td>\n",
       "    </tr>\n",
       "  </tbody>\n",
       "</table>\n",
       "</div>"
      ],
      "text/plain": [
       "         X1        X2        X4        X5        X8        X9       X11  \\\n",
       "0   -1.3151 -0.240538   1.75521  0.795464 -0.346082   1.08208  0.445504   \n",
       "1 -0.669916 -0.776774  0.910871  0.967218  0.204782  0.488878  0.143632   \n",
       "\n",
       "        X12      X14       X15       X16        X17      X19        Y  \n",
       "0   2.36918  1.44398    1.8248  0.829612  0.0567793  1.46155   2.4063  \n",
       "1  0.629484  1.85677  0.885839  0.874151   0.292776  1.83559  1.80616  "
      ]
     },
     "execution_count": 22,
     "metadata": {},
     "output_type": "execute_result"
    }
   ],
   "source": [
    "quanti_var_list = learnQuanti.columns.tolist()\n",
    "print(quanti_var_list)\n",
    "\n",
    "CompletedData_SIM_quanti = CompletedData_SIM[quanti_var_list]\n",
    "CompletedData_SIM_quanti.head(2)"
   ]
  },
  {
   "cell_type": "code",
   "execution_count": 23,
   "metadata": {
    "scrolled": true
   },
   "outputs": [
    {
     "data": {
      "text/html": [
       "<div>\n",
       "<style scoped>\n",
       "    .dataframe tbody tr th:only-of-type {\n",
       "        vertical-align: middle;\n",
       "    }\n",
       "\n",
       "    .dataframe tbody tr th {\n",
       "        vertical-align: top;\n",
       "    }\n",
       "\n",
       "    .dataframe thead th {\n",
       "        text-align: right;\n",
       "    }\n",
       "</style>\n",
       "<table border=\"1\" class=\"dataframe\">\n",
       "  <thead>\n",
       "    <tr style=\"text-align: right;\">\n",
       "      <th></th>\n",
       "      <th>X3</th>\n",
       "      <th>X7_a</th>\n",
       "      <th>X7_b</th>\n",
       "      <th>X7_d</th>\n",
       "      <th>X7_e</th>\n",
       "      <th>X10</th>\n",
       "      <th>X13_a</th>\n",
       "      <th>X13_b</th>\n",
       "      <th>X13_c</th>\n",
       "      <th>X13_f</th>\n",
       "      <th>...</th>\n",
       "      <th>X8</th>\n",
       "      <th>X9</th>\n",
       "      <th>X11</th>\n",
       "      <th>X12</th>\n",
       "      <th>X14</th>\n",
       "      <th>X15</th>\n",
       "      <th>X16</th>\n",
       "      <th>X17</th>\n",
       "      <th>X19</th>\n",
       "      <th>Y</th>\n",
       "    </tr>\n",
       "  </thead>\n",
       "  <tbody>\n",
       "    <tr>\n",
       "      <th>0</th>\n",
       "      <td>1</td>\n",
       "      <td>0</td>\n",
       "      <td>1</td>\n",
       "      <td>0</td>\n",
       "      <td>0</td>\n",
       "      <td>0</td>\n",
       "      <td>0</td>\n",
       "      <td>1</td>\n",
       "      <td>0</td>\n",
       "      <td>0</td>\n",
       "      <td>...</td>\n",
       "      <td>-0.346082</td>\n",
       "      <td>1.08208</td>\n",
       "      <td>0.445504</td>\n",
       "      <td>2.36918</td>\n",
       "      <td>1.44398</td>\n",
       "      <td>1.8248</td>\n",
       "      <td>0.829612</td>\n",
       "      <td>0.0567793</td>\n",
       "      <td>1.46155</td>\n",
       "      <td>2.4063</td>\n",
       "    </tr>\n",
       "    <tr>\n",
       "      <th>1</th>\n",
       "      <td>1</td>\n",
       "      <td>0</td>\n",
       "      <td>1</td>\n",
       "      <td>0</td>\n",
       "      <td>0</td>\n",
       "      <td>0</td>\n",
       "      <td>0</td>\n",
       "      <td>1</td>\n",
       "      <td>0</td>\n",
       "      <td>0</td>\n",
       "      <td>...</td>\n",
       "      <td>0.204782</td>\n",
       "      <td>0.488878</td>\n",
       "      <td>0.143632</td>\n",
       "      <td>0.629484</td>\n",
       "      <td>1.85677</td>\n",
       "      <td>0.885839</td>\n",
       "      <td>0.874151</td>\n",
       "      <td>0.292776</td>\n",
       "      <td>1.83559</td>\n",
       "      <td>1.80616</td>\n",
       "    </tr>\n",
       "    <tr>\n",
       "      <th>2</th>\n",
       "      <td>0</td>\n",
       "      <td>0</td>\n",
       "      <td>1</td>\n",
       "      <td>0</td>\n",
       "      <td>0</td>\n",
       "      <td>0</td>\n",
       "      <td>0</td>\n",
       "      <td>0</td>\n",
       "      <td>1</td>\n",
       "      <td>0</td>\n",
       "      <td>...</td>\n",
       "      <td>-0.165228</td>\n",
       "      <td>1.13939</td>\n",
       "      <td>0.945467</td>\n",
       "      <td>0.44721</td>\n",
       "      <td>0.193961</td>\n",
       "      <td>1.27736</td>\n",
       "      <td>-0.427721</td>\n",
       "      <td>0.668098</td>\n",
       "      <td>0.261418</td>\n",
       "      <td>-0.176492</td>\n",
       "    </tr>\n",
       "    <tr>\n",
       "      <th>3</th>\n",
       "      <td>0</td>\n",
       "      <td>0</td>\n",
       "      <td>1</td>\n",
       "      <td>0</td>\n",
       "      <td>0</td>\n",
       "      <td>0</td>\n",
       "      <td>0</td>\n",
       "      <td>1</td>\n",
       "      <td>0</td>\n",
       "      <td>0</td>\n",
       "      <td>...</td>\n",
       "      <td>-0.162357</td>\n",
       "      <td>0.941513</td>\n",
       "      <td>0.0425923</td>\n",
       "      <td>2.11372</td>\n",
       "      <td>0.676909</td>\n",
       "      <td>1.80037</td>\n",
       "      <td>0.660895</td>\n",
       "      <td>-0.308475</td>\n",
       "      <td>3.74596</td>\n",
       "      <td>2.59661</td>\n",
       "    </tr>\n",
       "    <tr>\n",
       "      <th>4</th>\n",
       "      <td>1</td>\n",
       "      <td>0</td>\n",
       "      <td>1</td>\n",
       "      <td>0</td>\n",
       "      <td>0</td>\n",
       "      <td>0</td>\n",
       "      <td>0</td>\n",
       "      <td>0</td>\n",
       "      <td>1</td>\n",
       "      <td>0</td>\n",
       "      <td>...</td>\n",
       "      <td>-0.0681436</td>\n",
       "      <td>0.212918</td>\n",
       "      <td>0.298849</td>\n",
       "      <td>0.333105</td>\n",
       "      <td>0.693852</td>\n",
       "      <td>0.550935</td>\n",
       "      <td>0.283491</td>\n",
       "      <td>0.243466</td>\n",
       "      <td>1.53669</td>\n",
       "      <td>1.3831</td>\n",
       "    </tr>\n",
       "  </tbody>\n",
       "</table>\n",
       "<p>5 rows × 25 columns</p>\n",
       "</div>"
      ],
      "text/plain": [
       "   X3  X7_a  X7_b  X7_d  X7_e  X10  X13_a  X13_b  X13_c  X13_f    ...     \\\n",
       "0   1     0     1     0     0    0      0      1      0      0    ...      \n",
       "1   1     0     1     0     0    0      0      1      0      0    ...      \n",
       "2   0     0     1     0     0    0      0      0      1      0    ...      \n",
       "3   0     0     1     0     0    0      0      1      0      0    ...      \n",
       "4   1     0     1     0     0    0      0      0      1      0    ...      \n",
       "\n",
       "          X8        X9        X11       X12       X14       X15       X16  \\\n",
       "0  -0.346082   1.08208   0.445504   2.36918   1.44398    1.8248  0.829612   \n",
       "1   0.204782  0.488878   0.143632  0.629484   1.85677  0.885839  0.874151   \n",
       "2  -0.165228   1.13939   0.945467   0.44721  0.193961   1.27736 -0.427721   \n",
       "3  -0.162357  0.941513  0.0425923   2.11372  0.676909   1.80037  0.660895   \n",
       "4 -0.0681436  0.212918   0.298849  0.333105  0.693852  0.550935  0.283491   \n",
       "\n",
       "         X17       X19         Y  \n",
       "0  0.0567793   1.46155    2.4063  \n",
       "1   0.292776   1.83559   1.80616  \n",
       "2   0.668098  0.261418 -0.176492  \n",
       "3  -0.308475   3.74596   2.59661  \n",
       "4   0.243466   1.53669    1.3831  \n",
       "\n",
       "[5 rows x 25 columns]"
      ]
     },
     "execution_count": 23,
     "metadata": {},
     "output_type": "execute_result"
    }
   ],
   "source": [
    "#One Hot Encoding Approach\n",
    "\n",
    "#To avoid the interpretation of numeircal by algorithms. \n",
    "#the stratégy is to convert each category value into a new column and assign a 1/0 value. \n",
    "#This has the benefit of not weighting a value improperly but does have the downside of adding more columns to the data set\n",
    "\n",
    "from sklearn.preprocessing import LabelBinarizer, LabelEncoder\n",
    "\n",
    "lb_style = LabelBinarizer()\n",
    "lb_make = LabelEncoder()\n",
    "\n",
    "#On retire les variable catégorielles de la base de données que l'on va concatener avec les variables catégorielles labélisées \n",
    "\n",
    "\n",
    "\n",
    "\n",
    "LB_df_int = pd.DataFrame()\n",
    "for i in categorials_var_list:  \n",
    "    if len(CompletedData_SIM[i].value_counts())==2:\n",
    "        lb_results = lb_make.fit_transform(CompletedData_SIM[i].astype('str')) \n",
    "        data_lb = pd.DataFrame(lb_results, columns=[i])\n",
    "        #print(data_lb.head())\n",
    "        LB_df_int = pd.concat([LB_df_int, data_lb], axis=1)\n",
    "        \n",
    "    else: \n",
    "        lb_results = lb_style.fit_transform(CompletedData_SIM[i].astype('str'))\n",
    "        data_lb = pd.DataFrame(lb_results, columns=lb_style.classes_)\n",
    "        data_lb = data_lb.add_prefix(i+'_')\n",
    "        #print(data_lb.head())\n",
    "        LB_df_int = pd.concat([LB_df_int, data_lb], axis=1)\n",
    "        \n",
    "        \n",
    "LB_df = pd.concat([LB_df_int, CompletedData_SIM_quanti], axis=1)\n",
    "LB_df.head()    "
   ]
  },
  {
   "cell_type": "markdown",
   "metadata": {},
   "source": [
    "# Modélisation"
   ]
  },
  {
   "cell_type": "markdown",
   "metadata": {},
   "source": [
    "Découpage de la base en apprntissage (80%) et validation (20%)"
   ]
  },
  {
   "cell_type": "code",
   "execution_count": 24,
   "metadata": {},
   "outputs": [
    {
     "name": "stderr",
     "output_type": "stream",
     "text": [
      "C:\\ProgramData\\Anaconda3\\lib\\site-packages\\ipykernel_launcher.py:2: FutureWarning: Method .as_matrix will be removed in a future version. Use .values instead.\n",
      "  \n",
      "C:\\ProgramData\\Anaconda3\\lib\\site-packages\\ipykernel_launcher.py:6: FutureWarning: Method .as_matrix will be removed in a future version. Use .values instead.\n",
      "  \n"
     ]
    }
   ],
   "source": [
    "#features \n",
    "X = LB_df.as_matrix(LB_df.columns[:-1])\n",
    "\n",
    "\n",
    "#ariable to be explained\n",
    "Y = LB_df.as_matrix([LB_df.columns[-1]])\n",
    "Y = Y.flatten()"
   ]
  },
  {
   "cell_type": "code",
   "execution_count": 26,
   "metadata": {},
   "outputs": [],
   "source": [
    "from sklearn.model_selection import train_test_split\n",
    "\n",
    "X_train, X_test, Y_train, Y_test = train_test_split(X,Y,test_size=0.2, random_state=0)"
   ]
  },
  {
   "cell_type": "code",
   "execution_count": 45,
   "metadata": {},
   "outputs": [],
   "source": [
    "from sklearn import metrics\n",
    "from sklearn.metrics import mean_squared_error"
   ]
  },
  {
   "cell_type": "markdown",
   "metadata": {},
   "source": [
    "### Regression linéraire"
   ]
  },
  {
   "cell_type": "code",
   "execution_count": 46,
   "metadata": {},
   "outputs": [],
   "source": [
    "from sklearn.linear_model import LinearRegression"
   ]
  },
  {
   "cell_type": "code",
   "execution_count": 48,
   "metadata": {},
   "outputs": [
    {
     "data": {
      "text/plain": [
       "0.5678455928153358"
      ]
     },
     "execution_count": 48,
     "metadata": {},
     "output_type": "execute_result"
    }
   ],
   "source": [
    "RegLin = LinearRegression()\n",
    "\n",
    "RegLin.fit(X=X_train,y=Y_train)\n",
    "\n",
    "y_pred = RegLin.predict(X_test)\n",
    "\n",
    "metrics.mean_squared_error(Y_test, y_pred)"
   ]
  },
  {
   "cell_type": "code",
   "execution_count": 52,
   "metadata": {},
   "outputs": [
    {
     "name": "stdout",
     "output_type": "stream",
     "text": [
      "-1825666242917.2427\n",
      "[ 3.08676261e-02 -1.12439999e+12 -1.12439999e+12 -1.12439999e+12\n",
      " -1.12439999e+12 -6.33949766e-02  2.95006623e+12  2.95006623e+12\n",
      "  2.95006623e+12  2.95006623e+12 -2.90907868e-02  2.56961844e-01\n",
      "  1.06368292e-01  1.21443467e+00 -1.82463086e-01 -1.71086947e-01\n",
      "  1.33447729e-02 -4.20499810e-01  1.34164234e-01 -1.49217836e-02\n",
      "  9.83929155e-02  8.02270167e-01 -3.84483349e-01  3.14891724e-02]\n",
      "0.7535553017631392\n"
     ]
    }
   ],
   "source": [
    "print(RegLin.intercept_)\n",
    "print(RegLin.coef_)\n",
    "\n",
    "RMSE=np.sqrt(((Y_test-y_pred)**2).sum()/len(Y_test))\n",
    "print(RMSE)"
   ]
  },
  {
   "cell_type": "code",
   "execution_count": null,
   "metadata": {},
   "outputs": [],
   "source": []
  }
 ],
 "metadata": {
  "kernelspec": {
   "display_name": "Python 3",
   "language": "python",
   "name": "python3"
  },
  "language_info": {
   "codemirror_mode": {
    "name": "ipython",
    "version": 3
   },
   "file_extension": ".py",
   "mimetype": "text/x-python",
   "name": "python",
   "nbconvert_exporter": "python",
   "pygments_lexer": "ipython3",
   "version": "3.7.1"
  }
 },
 "nbformat": 4,
 "nbformat_minor": 2
}
